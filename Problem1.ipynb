{
 "metadata": {
  "name": ""
 },
 "nbformat": 3,
 "nbformat_minor": 0,
 "worksheets": [
  {
   "cells": [
    {
     "cell_type": "markdown",
     "metadata": {},
     "source": [
      "The problem statement is:\n",
      "\n",
      "There is an inter hostel tournament for AOE (Feel free to choose Quake or CS) going on in IIT Delhi. Each hostel\u2019s team comprises of 4 people.  The organizers (who are students who have played a lot of AOE in IIT but are not allowed to participate in this tournament) are trying to be smart and have chosen to create a new map for the tournament (let\u2019s call it map 1).  They know that each map has its own characteristics and different kind of players perform differently on different maps.\n",
      "\n",
      "To make things easier for the hostels (so that they can choose a team of 4 among 20 students in each hostel), the orgainzers will be doing the following:\n",
      "\n",
      "a.\tThey will be playing on the new map among themselves (assume there are 30 organizers). They will be playing multiple times and will provide a performance index of each organizer for each game p1ij where i is from 1 to 30 and j is from 1 to 1000 (number of games played)\n",
      "\n",
      "b.\tThey will also be providing data of all the other maps and all the other games that have been played in IITD so far. We assume here that all the potential participants have played sufficient number of games. [pkij - where k is from 2 to 10 (for 9 different maps), i is from 1 to n (where 1 to 30 is for organizers  and 31 to n is for the potential participants), j is from 1 to 10000 which are the number of games played]\n",
      "\n",
      "Assume that each hostel wants to choose the 4 people who will have the highest predicted performance index for map 1.\n",
      "\n",
      "Help the captains of all the teams in choosing the best team for their hostels for the particular map (map 1).\n",
      "\n",
      "You need to mention the methods/models you will be using to solve this problem \u2013 Try to minimize, the order of time complexity without compromising with the optima\n",
      "\n",
      "\n",
      "\n",
      "\n"
     ]
    },
    {
     "cell_type": "markdown",
     "metadata": {},
     "source": [
      "This is a regression problem. I am attempting to solve this using linear regression.\n",
      "Lets first import some required python libraries"
     ]
    },
    {
     "cell_type": "code",
     "collapsed": false,
     "input": [
      "import os\n",
      "import sys\n",
      "import numpy as np\n",
      "from sklearn.linear_model import LinearRegression"
     ],
     "language": "python",
     "metadata": {},
     "outputs": [],
     "prompt_number": 111
    },
    {
     "cell_type": "markdown",
     "metadata": {},
     "source": [
      "We will build the training dataset first - a numpy array with 3 dimensions. First dim will represent user, second dim will represent map and the third will represent total games played."
     ]
    },
    {
     "cell_type": "code",
     "collapsed": false,
     "input": [
      "user_count = 200 # 1 to 30 organizers and rest contenders for hostel team\n",
      "map_count = 9 # Maps for which we know user's score i.e. excluding the test map\n",
      "game_count = 10000 # Game count per map per player on old maps\n",
      "new_map_game_count = 1000 # Game count per map per player for new map \n",
      "expert_user_count = 30\n",
      "\n",
      "def build_training_data():\n",
      "    dataset = np.ndarray(shape=(user_count, map_count, game_count), dtype=np.float32)\n",
      "    \n",
      "    # Assuming performance index (aka score) to be a floating point decimal\n",
      "    \n",
      "    \"\"\"Weight distribution: 1\n",
      "        Players 0 to 14 have mean score of 10 in maps 1-5 and mean score of 6 in maps 6-9\n",
      "        Players 15 to 29 have mean score of 7 in maps 1-5 and mean score of 10 in maps 6-9\n",
      "        \n",
      "        Players 30 to 39 have mean score of 8 in maps 1-5 and mean score of 6 in maps 6-9\n",
      "        Players 40 to 49 have mean score of 6 in maps 1-5 and mean score of 8 in maps 6-9\n",
      "\n",
      "        All other players have mean score of 4 in all maps\n",
      "        \n",
      "        Standard deviation for all cases is assumed 1 for generating data\n",
      "    \"\"\"\n",
      "    dataset[0:15, 0:5] = np.random.normal(10, 1, size=(15, 5, game_count)) \n",
      "    dataset[0:15, 5:9] = np.random.normal(6, 1, size=(15, 4, game_count)) \n",
      "\n",
      "    dataset[15:30, 0:5] = np.random.normal(7, 1, size=(15, 5, game_count)) \n",
      "    dataset[15:30, 5:9] = np.random.normal(10, 1, size=(15, 4, game_count)) \n",
      "    \n",
      "    dataset[30:40, 0:5] = np.random.normal(8, 1, size=(10, 5, game_count)) \n",
      "    dataset[30:40, 5:9] = np.random.normal(6, 1, size=(10, 4, game_count)) \n",
      "    \n",
      "    dataset[40:50, 0:5] = np.random.normal(6, 1, size=(10, 5, game_count)) \n",
      "    dataset[40:50, 5:9] = np.random.normal(8, 1, size=(10, 4, game_count)) \n",
      "    \n",
      "    dataset[50:] = np.random.normal(3, 1, size=(150, 9, game_count))\n",
      "    \n",
      "    \"\"\"\n",
      "    new_map_score is the score for each (organizing) player for the new map\n",
      "    Players 0 to 15 have mean score of 7 in new map\n",
      "    Players 16 to 30 have mean score of 9 in new map\n",
      "    \"\"\"\n",
      "    new_map_score = np.ndarray(shape=(expert_user_count, new_map_game_count), dtype=np.float32)\n",
      "    new_map_score[0:15] = np.random.normal(7, 1, size=(15, new_map_game_count)) \n",
      "    new_map_score[15:expert_user_count] = np.random.normal(9, 1, size=(15, new_map_game_count)) \n",
      "\n",
      "    return dataset, new_map_score\n",
      "    \n",
      "    \n",
      "all_data, new_map_score = build_training_data()    \n",
      "print 'Shape of all data is (users, old_map_count, games):',all_data.shape\n",
      "print 'Shape of new_map_score is (expert_users, games):',new_map_score.shape"
     ],
     "language": "python",
     "metadata": {},
     "outputs": [
      {
       "output_type": "stream",
       "stream": "stdout",
       "text": [
        "Shape of all data is (users, old_map_count, games): (200, 9, 10000)\n",
        "Shape of new_map_score is (expert_users, games): (30, 1000)\n"
       ]
      }
     ],
     "prompt_number": 112
    },
    {
     "cell_type": "markdown",
     "metadata": {},
     "source": [
      "For each person and each map, take the average score for all the games he has played."
     ]
    },
    {
     "cell_type": "code",
     "collapsed": false,
     "input": [
      "def mean_user_map_score(all_data, new_map_score):\n",
      "    all_data_averaged = np.average(all_data, axis=2)\n",
      "    new_map_score_averaged = np.average(new_map_score, axis=1)\n",
      "    return all_data_averaged, new_map_score_averaged\n",
      "    \n",
      "all_data_averaged, new_map_score_averaged = mean_user_map_score(all_data, new_map_score)\n",
      "print 'Shape of all data after averaging out over all games is (users, old_map_count):',all_data_averaged.shape\n",
      "print 'Shape of new_map_score after averaging out over all games is (expert_users):',new_map_score_averaged.shape"
     ],
     "language": "python",
     "metadata": {},
     "outputs": [
      {
       "output_type": "stream",
       "stream": "stdout",
       "text": [
        "Shape of all data after averaging out over all games is (users, old_map_count): (200, 9)\n",
        "Shape of new_map_score after averaging out over all games is (expert_users): (30,)\n"
       ]
      }
     ],
     "prompt_number": 113
    },
    {
     "cell_type": "markdown",
     "metadata": {},
     "source": [
      "Lets normalize the data so that we have a faster convergence"
     ]
    },
    {
     "cell_type": "code",
     "collapsed": false,
     "input": [
      "def normalize(all_data, new_map_score):\n",
      "    mean = np.mean(all_data)\n",
      "    std = np.std(all_data)\n",
      "    print 'Mean:',mean,', Standard deviation:',std\n",
      "    all_data_normalized = (all_data - mean)/std\n",
      "    new_map_score_normalized = (new_map_score - mean)/std\n",
      "    \n",
      "    return all_data_normalized, new_map_score_normalized\n",
      "    \n",
      "all_data_normalized, new_map_score_normalized = normalize(all_data_averaged, new_map_score_averaged)"
     ],
     "language": "python",
     "metadata": {},
     "outputs": [
      {
       "output_type": "stream",
       "stream": "stdout",
       "text": [
        "Mean: 4.19202 , Standard deviation: 2.21854\n"
       ]
      }
     ],
     "prompt_number": 114
    },
    {
     "cell_type": "markdown",
     "metadata": {},
     "source": [
      "Shuffle the data for the organizers as we will need both training and test data from organizers data. So to test the model well we need a good mix."
     ]
    },
    {
     "cell_type": "code",
     "collapsed": false,
     "input": [
      "np.random.seed(51)\n",
      "def randomize(dataset, labels):\n",
      "  permutation = np.random.permutation(labels.shape[0])\n",
      "  shuffled_dataset = dataset[permutation,:]\n",
      "  shuffled_labels = labels[permutation]\n",
      "  return shuffled_dataset, shuffled_labels\n",
      "\n",
      "# Randomize data\n",
      "all_data_normalized[:30], new_map_score_normalized[:30] = randomize(all_data_normalized[:30], new_map_score_normalized[:30])\n",
      "all_data = all_data_normalized\n",
      "new_map_score = new_map_score_normalized"
     ],
     "language": "python",
     "metadata": {},
     "outputs": [],
     "prompt_number": 115
    },
    {
     "cell_type": "markdown",
     "metadata": {},
     "source": [
      "We have been able to generate the training data. Now lets fit a linear model. We will split data for the first 30 users into 2 parts - 24 (80%) users data for training and rest 6 for testing and model evaluation."
     ]
    },
    {
     "cell_type": "code",
     "collapsed": false,
     "input": [
      "def build_and_evaluate_model(all_data, new_map_score):\n",
      "    # Divide into training and test set\n",
      "    training_data, test_data = all_data[:24], all_data[24:30]\n",
      "    training_label, test_label = new_map_score[:24], new_map_score[24:30]\n",
      "    \n",
      "    # Build and fit model\n",
      "    model = LinearRegression()\n",
      "    print 'Training data shape:',training_data.shape\n",
      "    print 'Training label shape:',training_label.shape\n",
      "    model.fit(training_data, training_label)\n",
      "    print 'Model is:'\n",
      "    print model\n",
      "    \n",
      "    print '\\nScore when ran model over training data is:'\n",
      "    print model.score(training_data, training_label)\n",
      "    \n",
      "    print '\\nScore when ran model over test data is:'\n",
      "    print model.score(test_data, test_label)\n",
      "        \n",
      "    print '\\nScore of organizers in new map is:',new_map_score\n",
      "    \n",
      "    predicted_score = model.predict(all_data[30:])\n",
      "    print '\\nPredicted performance index in new map for all participants is:',predicted_score\n",
      "    print '\\nShape of predicted score is:',predicted_score.shape\n",
      "    \n",
      "    print '\\nNow verifying score:'\n",
      "    print 'Mean score in new map for users 0 to 30',np.mean(new_map_score[:30])\n",
      "    print 'Mean score in new map for users 31 to 40',np.mean(predicted_score[:10])\n",
      "    print 'Mean score in new map for users 41 to 50',np.mean(predicted_score[10:20])\n",
      "    print 'Mean score in new map for users 51 onwards',np.mean(predicted_score[20:])\n",
      "    \n",
      "    return model\n",
      "\n",
      "\n",
      "model = build_and_evaluate_model(all_data, new_map_score)"
     ],
     "language": "python",
     "metadata": {},
     "outputs": [
      {
       "output_type": "stream",
       "stream": "stdout",
       "text": [
        "Training data shape: (24, 9)\n",
        "Trainig label shape: (24,)\n",
        "Model is:\n",
        "LinearRegression(copy_X=True, fit_intercept=True, normalize=False)\n",
        "\n",
        "Score when ran model over training data is:\n",
        "0.999506217543\n",
        "\n",
        "Score when ran model over test data is:\n",
        "0.998129067042\n",
        "\n",
        "Score of organizers in new map is: [ 2.16494465  1.27609777  1.26784718  2.16129637  1.26059401  2.14245152\n",
        "  2.17366838  2.17999482  1.26764035  2.18699694  1.23479843  2.18969417\n",
        "  1.27545357  1.25935066  1.28959489  1.2655201   1.2951287   1.27831912\n",
        "  2.16206646  1.27090108  2.17555976  2.19294453  2.18103242  2.16612172\n",
        "  2.1660645   2.12918115  1.267905    1.25964725  1.26598859  2.17707348]\n",
        "\n",
        "Predicted performance index in new map for all participants is: [ 0.15117432  0.1969314   0.16096756  0.1846796   0.15993954  0.16559421\n",
        "  0.15561316  0.18673762  0.19047103  0.176547    0.3646895   0.33942931\n",
        "  0.35060687  0.33583491  0.32640635  0.36303673  0.33241539  0.33203285\n",
        "  0.35435831  0.36239596 -4.48625885 -4.50461168 -4.52499935 -4.48879825\n",
        " -4.49466986 -4.47527281 -4.48399517 -4.51001674 -4.49445556 -4.48505357\n",
        " -4.51293548 -4.46283317 -4.4772396  -4.47540099 -4.48718653 -4.48827063\n",
        " -4.4610721  -4.48856414 -4.50268593 -4.49784145 -4.49764441 -4.48411227\n",
        " -4.48577875 -4.46723468 -4.48962974 -4.50183615 -4.51536734 -4.49091489\n",
        " -4.4901909  -4.48218306 -4.47317264 -4.47521777 -4.48668989 -4.49634282\n",
        " -4.49444848 -4.4873141  -4.46798441 -4.51215255 -4.48750523 -4.50869492\n",
        " -4.467674   -4.49199276 -4.50327626 -4.51695402 -4.50747848 -4.46500185\n",
        " -4.49219518 -4.48092892 -4.4897968  -4.49745225 -4.49412302 -4.50351626\n",
        " -4.48029668 -4.49902023 -4.4792028  -4.48973963 -4.48045742 -4.4911676\n",
        " -4.48349437 -4.49619112 -4.48472674 -4.51206012 -4.48395734 -4.51519955\n",
        " -4.49284694 -4.50571796 -4.49877748 -4.47730681 -4.48422194 -4.48052866\n",
        " -4.50011157 -4.47843776 -4.47120501 -4.48102225 -4.4790089  -4.50027318\n",
        " -4.49203109 -4.51190528 -4.48497804 -4.49755512 -4.50212086 -4.49955952\n",
        " -4.48468444 -4.4950141  -4.51069392 -4.48845301 -4.50400001 -4.48489072\n",
        " -4.46550255 -4.50371386 -4.52168221 -4.48468187 -4.47765422 -4.48604513\n",
        " -4.47902326 -4.4663255  -4.49060661 -4.48149081 -4.46816436 -4.48837272\n",
        " -4.47406318 -4.49313086 -4.47980654 -4.47945781 -4.49134604 -4.48342414\n",
        " -4.47944707 -4.49999007 -4.48422408 -4.49555451 -4.45149174 -4.50140229\n",
        " -4.50540682 -4.47634083 -4.49126495 -4.49436108 -4.48537385 -4.48733731\n",
        " -4.50599651 -4.48364059 -4.47585329 -4.48107212 -4.48874683 -4.48922871\n",
        " -4.48575628 -4.49512144 -4.47810959 -4.48847353 -4.48164999 -4.51614606\n",
        " -4.49344711 -4.48900824 -4.50772144 -4.48129824 -4.49384636 -4.46193466\n",
        " -4.51371761 -4.48791823 -4.49254968 -4.49861953 -4.47858436 -4.48950045\n",
        " -4.48030367 -4.51670012 -4.50322888 -4.4688029  -4.492657   -4.48380341\n",
        " -4.49024818 -4.50853589]\n",
        "\n",
        "Shape of predicted score is: (170,)\n",
        "\n",
        "Now verifying score:\n",
        "Mean score in new map for users 0 to 30 1.71946\n",
        "Mean score in new map for users 31 to 40 0.172865544404\n",
        "Mean score in new map for users 41 to 50 0.346120617293\n",
        "Mean score in new map for users 51 onwards -4.48984487959\n"
       ]
      }
     ],
     "prompt_number": 117
    },
    {
     "cell_type": "code",
     "collapsed": false,
     "input": [
      "    "
     ],
     "language": "python",
     "metadata": {},
     "outputs": []
    }
   ],
   "metadata": {}
  }
 ]
}
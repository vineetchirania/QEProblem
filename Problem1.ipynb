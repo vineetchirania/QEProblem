{
 "metadata": {
  "name": ""
 },
 "nbformat": 3,
 "nbformat_minor": 0,
 "worksheets": [
  {
   "cells": [
    {
     "cell_type": "markdown",
     "metadata": {},
     "source": [
      "The problem statement is:\n",
      "\n",
      "There is an inter hostel tournament for AOE (Feel free to choose Quake or CS) going on in IIT Delhi. Each hostel\u2019s team comprises of 4 people.  The organizers (who are students who have played a lot of AOE in IIT but are not allowed to participate in this tournament) are trying to be smart and have chosen to create a new map for the tournament (let\u2019s call it map 1).  They know that each map has its own characteristics and different kind of players perform differently on different maps.\n",
      "\n",
      "To make things easier for the hostels (so that they can choose a team of 4 among 20 students in each hostel), the orgainzers will be doing the following:\n",
      "\n",
      "a.\tThey will be playing on the new map among themselves (assume there are 30 organizers). They will be playing multiple times and will provide a performance index of each organizer for each game p1ij where i is from 1 to 30 and j is from 1 to 1000 (number of games played)\n",
      "\n",
      "b.\tThey will also be providing data of all the other maps and all the other games that have been played in IITD so far. We assume here that all the potential participants have played sufficient number of games. [pkij - where k is from 2 to 10 (for 9 different maps), i is from 1 to n (where 1 to 30 is for organizers  and 31 to n is for the potential participants), j is from 1 to 10000 which are the number of games played]\n",
      "\n",
      "Assume that each hostel wants to choose the 4 people who will have the highest predicted performance index for map 1.\n",
      "\n",
      "Help the captains of all the teams in choosing the best team for their hostels for the particular map (map 1).\n",
      "\n",
      "You need to mention the methods/models you will be using to solve this problem \u2013 Try to minimize, the order of time complexity without compromising with the optima\n",
      "\n",
      "\n",
      "\n",
      "\n"
     ]
    },
    {
     "cell_type": "markdown",
     "metadata": {},
     "source": [
      "This is a regression problem. I am attempting to solve this using linear regression.\n",
      "Lets first import some required python libraries"
     ]
    },
    {
     "cell_type": "code",
     "collapsed": false,
     "input": [
      "import os\n",
      "import sys\n",
      "import matplotlib.pyplot as plt\n",
      "import numpy as np\n",
      "from sklearn import datasets, linear_model"
     ],
     "language": "python",
     "metadata": {},
     "outputs": [],
     "prompt_number": 1
    },
    {
     "cell_type": "markdown",
     "metadata": {},
     "source": [
      "We will build the training dataset first - a numpy array with 3 dimensions. First dim will represent user, second dim will represent map and the third will represent total games played."
     ]
    },
    {
     "cell_type": "code",
     "collapsed": false,
     "input": [
      "user_count = 200 # 1 to 30 organizers and rest contenders for hostel team\n",
      "map_count = 9 # Maps for which we know user's score i.e. excluding the test map\n",
      "game_count = 10000 # Game count per map per player\n",
      "\n",
      "def build_training_data():\n",
      "    dataset = np.ndarray(shape=(user_count, map_count, game_count), dtype=np.float32)\n",
      "    \n",
      "    # Assuming performance index (aka score) to be a floating point decimal\n",
      "    \n",
      "    \"\"\"Weight distribution: 1\n",
      "        Players 0 to 14 have mean score of 9 in maps 1-5 and mean score of 7 in maps 6-9\n",
      "        Players 15 to 29 have mean score of 7 in maps 1-5 and mean score of 9 in maps 6-9\n",
      "        \n",
      "        Players 30 to 39 have mean score of 8 in maps 1-5 and mean score of 6 in maps 6-9\n",
      "        Players 40 to 49 have mean score of 6 in maps 1-5 and mean score of 8 in maps 6-9\n",
      "\n",
      "        All other players have mean score of 4 in all maps\n",
      "    \"\"\"\n",
      "    dataset[0:15, 0:5] = np.random.normal(9, 1, size=(15, 5, game_count)) \n",
      "    dataset[0:15, 5:9] = np.random.normal(7, 1, size=(15, 4, game_count)) \n",
      "\n",
      "    dataset[15:30, 0:5] = np.random.normal(7, 1, size=(15, 5, game_count)) \n",
      "    dataset[15:30, 5:9] = np.random.normal(9, 1, size=(15, 4, game_count)) \n",
      "    \n",
      "    dataset[30:40, 0:5] = np.random.normal(8, 1, size=(10, 5, game_count)) \n",
      "    dataset[30:40, 5:9] = np.random.normal(6, 1, size=(10, 4, game_count)) \n",
      "    \n",
      "    dataset[40:50, 0:5] = np.random.normal(6, 1, size=(10, 5, game_count)) \n",
      "    dataset[40:50, 5:9] = np.random.normal(8, 1, size=(10, 4, game_count)) \n",
      "    \n",
      "    dataset[50:] = np.random.normal(4, 1, size=(150, 9, game_count))\n",
      "    \n",
      "    \"\"\"\n",
      "    Output is the score for each player for the new map\n",
      "    \"\"\"\n",
      "    new_map_score = np.ndarray(shape=(user_count, 1), dtype=np.float32)\n",
      "    new_map_score[0:15] = np.random.normal(9, 1, size=(15, 1)) \n",
      "    new_map_score[15:30] = np.random.normal(7, 1, size=(15, 1)) \n",
      "    new_map_score[30:] = np.zeros(shape=(170,1))\n",
      "\n",
      "    #print dataset[199]\n",
      "    #print new_map_score\n",
      "    return dataset, new_map_score\n",
      "    \n",
      "all_data, new_map_score = build_training_data()    "
     ],
     "language": "python",
     "metadata": {},
     "outputs": [],
     "prompt_number": 14
    },
    {
     "cell_type": "markdown",
     "metadata": {},
     "source": [
      "Lets normalize the data so that we have a faster convergence"
     ]
    },
    {
     "cell_type": "code",
     "collapsed": false,
     "input": [
      "def normalize(all_data, new_map_score):\n",
      "    mean = np.mean(all_data[:30])\n",
      "    std = np.std(all_data[:30])\n",
      "    all_data = (all_data - mean)/std\n",
      "    \n",
      "all_data, new_map_score = normalize(all_data, new_map_score)"
     ],
     "language": "python",
     "metadata": {},
     "outputs": []
    },
    {
     "cell_type": "markdown",
     "metadata": {},
     "source": [
      "Build a randomizer"
     ]
    },
    {
     "cell_type": "code",
     "collapsed": false,
     "input": [
      "np.random.seed(51)\n",
      "def randomize(dataset, labels):\n",
      "  permutation = np.random.permutation(labels.shape[0])\n",
      "  shuffled_dataset = dataset[permutation,:,:]\n",
      "  shuffled_labels = labels[permutation]\n",
      "  return shuffled_dataset, shuffled_labels"
     ],
     "language": "python",
     "metadata": {},
     "outputs": []
    },
    {
     "cell_type": "markdown",
     "metadata": {},
     "source": [
      "We have been able to generate the training data. Now lets fit a linear model. We will split data for the first 30 users into 2 parts - 24 (80%) users data for training and rest 6 for testing and model evaluation."
     ]
    },
    {
     "cell_type": "code",
     "collapsed": false,
     "input": [
      "def build_and_evaluate_model(all_data, new_map_score):\n",
      "    # Randomize data\n",
      "    all_data[:30], new_map_score[:30] = randomize(all_data[30], new_map_score[30])\n",
      "\n",
      "    # Divide into training and test set\n",
      "    training_data, test_data = all_data[:24], all_data[24:30]\n",
      "    training_label, test_label = new_map_score[:24], new_map_score[24:30]\n",
      "    \n",
      "    # Build and fit model\n",
      "    \n",
      "    \n",
      "    return model\n",
      "\n",
      "\n",
      "model = build_and_evaluate_model(training_data, training_label, test_data, test_label)"
     ],
     "language": "python",
     "metadata": {},
     "outputs": []
    },
    {
     "cell_type": "code",
     "collapsed": false,
     "input": [],
     "language": "python",
     "metadata": {},
     "outputs": [],
     "prompt_number": 7
    },
    {
     "cell_type": "code",
     "collapsed": false,
     "input": [],
     "language": "python",
     "metadata": {},
     "outputs": []
    }
   ],
   "metadata": {}
  }
 ]
}
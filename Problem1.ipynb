{
 "metadata": {
  "name": ""
 },
 "nbformat": 3,
 "nbformat_minor": 0,
 "worksheets": [
  {
   "cells": [
    {
     "cell_type": "markdown",
     "metadata": {},
     "source": [
      "The problem statement is:\n",
      "\n",
      "There is an inter hostel tournament for AOE (Feel free to choose Quake or CS) going on in IIT Delhi. Each hostel\u2019s team comprises of 4 people.  The organizers (who are students who have played a lot of AOE in IIT but are not allowed to participate in this tournament) are trying to be smart and have chosen to create a new map for the tournament (let\u2019s call it map 1).  They know that each map has its own characteristics and different kind of players perform differently on different maps.\n",
      "\n",
      "To make things easier for the hostels (so that they can choose a team of 4 among 20 students in each hostel), the orgainzers will be doing the following:\n",
      "\n",
      "a.\tThey will be playing on the new map among themselves (assume there are 30 organizers). They will be playing multiple times and will provide a performance index of each organizer for each game p1ij where i is from 1 to 30 and j is from 1 to 1000 (number of games played)\n",
      "\n",
      "b.\tThey will also be providing data of all the other maps and all the other games that have been played in IITD so far. We assume here that all the potential participants have played sufficient number of games. [pkij - where k is from 2 to 10 (for 9 different maps), i is from 1 to n (where 1 to 30 is for organizers  and 31 to n is for the potential participants), j is from 1 to 10000 which are the number of games played]\n",
      "\n",
      "Assume that each hostel wants to choose the 4 people who will have the highest predicted performance index for map 1.\n",
      "\n",
      "Help the captains of all the teams in choosing the best team for their hostels for the particular map (map 1).\n",
      "\n",
      "You need to mention the methods/models you will be using to solve this problem \u2013 Try to minimize, the order of time complexity without compromising with the optima\n",
      "\n",
      "\n",
      "\n",
      "\n"
     ]
    },
    {
     "cell_type": "markdown",
     "metadata": {},
     "source": [
      "This is a regression problem. I am attempting to solve this using linear regression.\n",
      "Lets first import some required python libraries"
     ]
    },
    {
     "cell_type": "code",
     "collapsed": false,
     "input": [
      "import os\n",
      "import sys\n",
      "import matplotlib.pyplot as plt\n",
      "import numpy as np\n",
      "from sklearn.linear_model import LinearRegression"
     ],
     "language": "python",
     "metadata": {},
     "outputs": [],
     "prompt_number": 47
    },
    {
     "cell_type": "markdown",
     "metadata": {},
     "source": [
      "We will build the training dataset first - a numpy array with 3 dimensions. First dim will represent user, second dim will represent map and the third will represent total games played."
     ]
    },
    {
     "cell_type": "code",
     "collapsed": false,
     "input": [
      "user_count = 200 # 1 to 30 organizers and rest contenders for hostel team\n",
      "map_count = 9 # Maps for which we know user's score i.e. excluding the test map\n",
      "game_count = 10000 # Game count per map per player on old maps\n",
      "new_map_game_count = 1000 # Game count per map per player for new map \n",
      "expert_user_count = 30\n",
      "\n",
      "def build_training_data():\n",
      "    dataset = np.ndarray(shape=(user_count, map_count, game_count), dtype=np.float32)\n",
      "    \n",
      "    # Assuming performance index (aka score) to be a floating point decimal\n",
      "    \n",
      "    \"\"\"Weight distribution: 1\n",
      "        Players 0 to 14 have mean score of 9 in maps 1-5 and mean score of 7 in maps 6-9\n",
      "        Players 15 to 29 have mean score of 7 in maps 1-5 and mean score of 9 in maps 6-9\n",
      "        \n",
      "        Players 30 to 39 have mean score of 8 in maps 1-5 and mean score of 6 in maps 6-9\n",
      "        Players 40 to 49 have mean score of 6 in maps 1-5 and mean score of 8 in maps 6-9\n",
      "\n",
      "        All other players have mean score of 4 in all maps\n",
      "    \"\"\"\n",
      "    dataset[0:15, 0:5] = np.random.normal(9, 1, size=(15, 5, game_count)) \n",
      "    dataset[0:15, 5:9] = np.random.normal(7, 1, size=(15, 4, game_count)) \n",
      "\n",
      "    dataset[15:30, 0:5] = np.random.normal(7, 1, size=(15, 5, game_count)) \n",
      "    dataset[15:30, 5:9] = np.random.normal(9, 1, size=(15, 4, game_count)) \n",
      "    \n",
      "    dataset[30:40, 0:5] = np.random.normal(8, 1, size=(10, 5, game_count)) \n",
      "    dataset[30:40, 5:9] = np.random.normal(6, 1, size=(10, 4, game_count)) \n",
      "    \n",
      "    dataset[40:50, 0:5] = np.random.normal(6, 1, size=(10, 5, game_count)) \n",
      "    dataset[40:50, 5:9] = np.random.normal(8, 1, size=(10, 4, game_count)) \n",
      "    \n",
      "    dataset[50:] = np.random.normal(4, 1, size=(150, 9, game_count))\n",
      "    \n",
      "    \"\"\"\n",
      "    new_map_score is the score for each player for the new map\n",
      "    \"\"\"\n",
      "    new_map_score = np.ndarray(shape=(expert_user_count, new_map_game_count), dtype=np.float32)\n",
      "    new_map_score[0:15] = np.random.normal(9, 1, size=(15, new_map_game_count)) \n",
      "    new_map_score[15:expert_user_count] = np.random.normal(7, 1, size=(15, new_map_game_count)) \n",
      "    #new_map_score[30:] = np.zeros(shape=((user_count - 30), new_map_game_count))\n",
      "\n",
      "    #print dataset[199]\n",
      "    #print new_map_score[0]\n",
      "    return dataset, new_map_score\n",
      "    \n",
      "all_data, new_map_score = build_training_data()    \n",
      "print 'Shape of all data is (users, old_map_count, games):',all_data.shape\n",
      "print 'Shape of new_map_score is (expert_users, games):',new_map_score.shape"
     ],
     "language": "python",
     "metadata": {},
     "outputs": [
      {
       "output_type": "stream",
       "stream": "stdout",
       "text": [
        "Shape of all data is (users, old_map_count, games): (200, 9, 10000)\n",
        "Shape of new_map_score is (expert_users, games): (30, 1000)\n"
       ]
      }
     ],
     "prompt_number": 35
    },
    {
     "cell_type": "markdown",
     "metadata": {},
     "source": [
      "For each person and each map, take the average score for all the games he has played."
     ]
    },
    {
     "cell_type": "code",
     "collapsed": false,
     "input": [
      "def mean_user_map_score(all_data, new_map_score):\n",
      "    all_data_averaged = np.average(all_data, axis=2)\n",
      "    new_map_score_averaged = np.average(new_map_score, axis=1)\n",
      "    return all_data_averaged, new_map_score_averaged\n",
      "    \n",
      "all_data_averaged, new_map_score_averaged = mean_user_map_score(all_data, new_map_score)\n",
      "print 'Shape of all data after averaging out over all games is (users, old_map_count):',all_data_averaged.shape\n",
      "print 'Shape of new_map_score after averaging out over all games is (expert_users):',new_map_score_averaged.shape"
     ],
     "language": "python",
     "metadata": {},
     "outputs": [
      {
       "output_type": "stream",
       "stream": "stdout",
       "text": [
        "Shape of all data after averaging out over all games is (users, old_map_count): (200, 9)\n",
        "Shape of new_map_score after averaging out over all games is (expert_users): (30,)\n"
       ]
      }
     ],
     "prompt_number": 37
    },
    {
     "cell_type": "markdown",
     "metadata": {},
     "source": [
      "Lets normalize the data so that we have a faster convergence"
     ]
    },
    {
     "cell_type": "code",
     "collapsed": false,
     "input": [
      "def normalize(all_data, new_map_score):\n",
      "    mean = np.mean(all_data)\n",
      "    std = np.std(all_data)\n",
      "    print 'Mean:',mean,', Standard deviation:',std\n",
      "    all_data_normalized = (all_data - mean)/std\n",
      "    new_map_score_normalized = (new_map_score - mean)/std\n",
      "    \n",
      "    return all_data_normalized, new_map_score_normalized\n",
      "    \n",
      "all_data_normalized, new_map_score_normalized = normalize(all_data_averaged, new_map_score)"
     ],
     "language": "python",
     "metadata": {},
     "outputs": [
      {
       "output_type": "stream",
       "stream": "stdout",
       "text": [
        "Mean: 4.89985 , Standard deviation: 1.6557\n"
       ]
      }
     ],
     "prompt_number": 39
    },
    {
     "cell_type": "markdown",
     "metadata": {},
     "source": [
      "Build a randomizer"
     ]
    },
    {
     "cell_type": "code",
     "collapsed": false,
     "input": [
      "np.random.seed(51)\n",
      "def randomize(dataset, labels):\n",
      "  permutation = np.random.permutation(labels.shape[0])\n",
      "  shuffled_dataset = dataset[permutation,:]\n",
      "  shuffled_labels = labels[permutation]\n",
      "  return shuffled_dataset, shuffled_labels\n",
      "\n",
      "# Randomize data\n",
      "all_data_normalized[:30], new_map_score_normalized[:30] = randomize(all_data_normalized[:30], new_map_score_normalized[:30])\n",
      "all_data = all_data_normalized\n",
      "new_map_score = new_map_score_normalized"
     ],
     "language": "python",
     "metadata": {},
     "outputs": [],
     "prompt_number": 42
    },
    {
     "cell_type": "markdown",
     "metadata": {},
     "source": [
      "We have been able to generate the training data. Now lets fit a linear model. We will split data for the first 30 users into 2 parts - 24 (80%) users data for training and rest 6 for testing and model evaluation."
     ]
    },
    {
     "cell_type": "code",
     "collapsed": false,
     "input": [
      "def build_and_evaluate_model(all_data, new_map_score):\n",
      "    # Divide into training and test set\n",
      "    training_data, test_data = all_data[:24], all_data[24:30]\n",
      "    training_label, test_label = new_map_score[:24], new_map_score[24:30]\n",
      "    \n",
      "    # Build and fit model\n",
      "    model = LinearRegression()\n",
      "    model.fit(training_data, training_label)\n",
      "    print 'Model is:'\n",
      "    print model\n",
      "    \n",
      "    print '\\nScore when ran model over training data is:'\n",
      "    print model.score(training_data, training_label)\n",
      "    \n",
      "    print '\\nScore when ran model over test data is:'\n",
      "    print model.score(test_data, test_label)\n",
      "    \n",
      "    predicted_score = model.predict(all_data[30:])\n",
      "    print predicted_score\n",
      "    \n",
      "    return model\n",
      "\n",
      "\n",
      "model = build_and_evaluate_model(all_data, new_map_score)"
     ],
     "language": "python",
     "metadata": {},
     "outputs": [
      {
       "output_type": "stream",
       "stream": "stdout",
       "text": [
        "Model is:\n",
        "LinearRegression(copy_X=True, fit_intercept=True, normalize=False)\n",
        "\n",
        "Score when ran model over training data is:\n",
        "0.703004459308\n",
        "\n",
        "Score when ran model over test data is:\n",
        "0.0383566682211\n",
        "[[  34.6224164    -6.97187572   14.56181068 ...,   83.50347848\n",
        "    93.96201868   46.44326085]\n",
        " [  34.37467285   -6.74329431   14.65330888 ...,   83.91551786\n",
        "    94.69450288   46.51526846]\n",
        " [  34.29724622   -7.41429886   14.92350848 ...,   83.19052458\n",
        "    94.55852341   46.72391007]\n",
        " ..., \n",
        " [ 128.20463703  -36.64880057   52.15115636 ...,  327.02562555\n",
        "   368.98611709  177.69919595]\n",
        " [ 128.7180604   -36.34984425   51.51124117 ...,  326.88434119\n",
        "   368.27348894  177.45759124]\n",
        " [ 128.25977846  -36.61574032   51.95401461 ...,  326.78795987\n",
        "   368.73499832  177.97266949]]\n"
       ]
      }
     ],
     "prompt_number": 49
    },
    {
     "cell_type": "code",
     "collapsed": false,
     "input": [
      "    "
     ],
     "language": "python",
     "metadata": {},
     "outputs": []
    }
   ],
   "metadata": {}
  }
 ]
}